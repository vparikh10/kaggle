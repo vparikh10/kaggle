{
 "cells": [
  {
   "cell_type": "markdown",
   "metadata": {},
   "source": [
    "# Beer Dataset - Recommendation Engine"
   ]
  },
  {
   "cell_type": "code",
   "execution_count": 1,
   "metadata": {
    "collapsed": true
   },
   "outputs": [],
   "source": [
    "import pandas as pd\n",
    "import numpy as np\n",
    "import pylab as pl"
   ]
  },
  {
   "cell_type": "code",
   "execution_count": 3,
   "metadata": {
    "collapsed": false
   },
   "outputs": [
    {
     "name": "stdout",
     "output_type": "stream",
     "text": [
      "   brewery_id             brewery_name  review_time  review_overall  \\\n",
      "0       10325          Vecchio Birraio   1234817823             1.5   \n",
      "1       10325          Vecchio Birraio   1235915097             3.0   \n",
      "2       10325          Vecchio Birraio   1235916604             3.0   \n",
      "3       10325          Vecchio Birraio   1234725145             3.0   \n",
      "4        1075  Caldera Brewing Company   1293735206             4.0   \n",
      "\n",
      "   review_aroma  review_appearance review_profilename  \\\n",
      "0           2.0                2.5            stcules   \n",
      "1           2.5                3.0            stcules   \n",
      "2           2.5                3.0            stcules   \n",
      "3           3.0                3.5            stcules   \n",
      "4           4.5                4.0     johnmichaelsen   \n",
      "\n",
      "                       beer_style  review_palate  review_taste  \\\n",
      "0                      Hefeweizen            1.5           1.5   \n",
      "1              English Strong Ale            3.0           3.0   \n",
      "2          Foreign / Export Stout            3.0           3.0   \n",
      "3                 German Pilsener            2.5           3.0   \n",
      "4  American Double / Imperial IPA            4.0           4.5   \n",
      "\n",
      "                beer_name  beer_abv  beer_beerid  \n",
      "0            Sausa Weizen       5.0        47986  \n",
      "1                Red Moon       6.2        48213  \n",
      "2  Black Horse Black Beer       6.5        48215  \n",
      "3              Sausa Pils       5.0        47969  \n",
      "4           Cauldron DIPA       7.7        64883  \n",
      "<class 'pandas.core.frame.DataFrame'>\n",
      "Int64Index: 1586614 entries, 0 to 1586613\n",
      "Data columns (total 13 columns):\n",
      "brewery_id            1586614 non-null int64\n",
      "brewery_name          1586599 non-null object\n",
      "review_time           1586614 non-null int64\n",
      "review_overall        1586614 non-null float64\n",
      "review_aroma          1586614 non-null float64\n",
      "review_appearance     1586614 non-null float64\n",
      "review_profilename    1586266 non-null object\n",
      "beer_style            1586614 non-null object\n",
      "review_palate         1586614 non-null float64\n",
      "review_taste          1586614 non-null float64\n",
      "beer_name             1586614 non-null object\n",
      "beer_abv              1518829 non-null float64\n",
      "beer_beerid           1586614 non-null int64\n",
      "dtypes: float64(6), int64(3), object(4)\n",
      "memory usage: 169.5+ MB\n",
      "None\n"
     ]
    }
   ],
   "source": [
    "#For Mac OS\n",
    "Location0 = r'/Users/viral.parikh/Desktop/External_Datasets/kaggle/beer/beer_reviews/beer_reviews.csv'\n",
    "\n",
    "df = pd.read_csv(Location0)\n",
    "\n",
    "print df.head()\n",
    "print df.info()"
   ]
  },
  {
   "cell_type": "markdown",
   "metadata": {},
   "source": [
    "# Solution 1 - User Similarity"
   ]
  },
  {
   "cell_type": "code",
   "execution_count": 4,
   "metadata": {
    "collapsed": true
   },
   "outputs": [],
   "source": [
    "beer_1, beer_2 = \"Dale's Pale Ale\", \"Fat Tire Amber Ale\""
   ]
  },
  {
   "cell_type": "code",
   "execution_count": 5,
   "metadata": {
    "collapsed": true
   },
   "outputs": [],
   "source": [
    "beer_1_reviewers = df[df.beer_name==beer_1].review_profilename.unique()"
   ]
  },
  {
   "cell_type": "code",
   "execution_count": 6,
   "metadata": {
    "collapsed": true
   },
   "outputs": [],
   "source": [
    "beer_2_reviewers = df[df.beer_name==beer_2].review_profilename.unique()"
   ]
  },
  {
   "cell_type": "code",
   "execution_count": 7,
   "metadata": {
    "collapsed": false
   },
   "outputs": [
    {
     "name": "stdout",
     "output_type": "stream",
     "text": [
      "Users in the sameset: 499\n"
     ]
    },
    {
     "data": {
      "text/plain": [
       "['womencantsail',\n",
       " 'Marty30',\n",
       " 'Winter',\n",
       " 'Lothore',\n",
       " 'bump8628',\n",
       " 'gford217',\n",
       " 'lackenhauser',\n",
       " 'wspscott',\n",
       " 'mjurney',\n",
       " 'LiquidBread219']"
      ]
     },
     "execution_count": 7,
     "metadata": {},
     "output_type": "execute_result"
    }
   ],
   "source": [
    "common_reviewers = set(beer_1_reviewers).intersection(beer_2_reviewers)\n",
    "print \"Users in the sameset: %d\" % len(common_reviewers)\n",
    "list(common_reviewers)[:10]"
   ]
  },
  {
   "cell_type": "code",
   "execution_count": 8,
   "metadata": {
    "collapsed": false
   },
   "outputs": [
    {
     "name": "stdout",
     "output_type": "stream",
     "text": [
      "<class 'pandas.core.frame.DataFrame'>\n",
      "Int64Index: 499 entries, 1454568 to 1453403\n",
      "Data columns (total 13 columns):\n",
      "brewery_id            499 non-null int64\n",
      "brewery_name          499 non-null object\n",
      "review_time           499 non-null int64\n",
      "review_overall        499 non-null float64\n",
      "review_aroma          499 non-null float64\n",
      "review_appearance     499 non-null float64\n",
      "review_profilename    499 non-null object\n",
      "beer_style            499 non-null object\n",
      "review_palate         499 non-null float64\n",
      "review_taste          499 non-null float64\n",
      "beer_name             499 non-null object\n",
      "beer_abv              499 non-null float64\n",
      "beer_beerid           499 non-null int64\n",
      "dtypes: float64(6), int64(3), object(4)\n",
      "memory usage: 54.6+ KB\n",
      "None\n",
      "<class 'pandas.core.frame.DataFrame'>\n",
      "Int64Index: 499 entries, 202456 to 201325\n",
      "Data columns (total 13 columns):\n",
      "brewery_id            499 non-null int64\n",
      "brewery_name          499 non-null object\n",
      "review_time           499 non-null int64\n",
      "review_overall        499 non-null float64\n",
      "review_aroma          499 non-null float64\n",
      "review_appearance     499 non-null float64\n",
      "review_profilename    499 non-null object\n",
      "beer_style            499 non-null object\n",
      "review_palate         499 non-null float64\n",
      "review_taste          499 non-null float64\n",
      "beer_name             499 non-null object\n",
      "beer_abv              499 non-null float64\n",
      "beer_beerid           499 non-null int64\n",
      "dtypes: float64(6), int64(3), object(4)\n",
      "memory usage: 54.6+ KB\n",
      "None\n"
     ]
    }
   ],
   "source": [
    "def get_beer_reviews(beer, common_users):\n",
    "    mask = (df.review_profilename.isin(common_users)) & (df.beer_name==beer)\n",
    "    reviews = df[mask].sort('review_profilename')\n",
    "    reviews = reviews[reviews.review_profilename.duplicated()==False]\n",
    "    return reviews\n",
    "\n",
    "beer_1_reviews = get_beer_reviews(beer_1, common_reviewers)\n",
    "beer_2_reviews = get_beer_reviews(beer_2, common_reviewers)\n",
    "\n",
    "print beer_1_reviews.info()\n",
    "print beer_2_reviews.info()"
   ]
  },
  {
   "cell_type": "code",
   "execution_count": 9,
   "metadata": {
    "collapsed": false
   },
   "outputs": [
    {
     "data": {
      "text/html": [
       "<div style=\"max-height:1000px;max-width:1500px;overflow:auto;\">\n",
       "<table border=\"1\" class=\"dataframe\">\n",
       "  <thead>\n",
       "    <tr style=\"text-align: right;\">\n",
       "      <th></th>\n",
       "      <th>beer_name</th>\n",
       "      <th>review_profilename</th>\n",
       "      <th>review_overall</th>\n",
       "      <th>review_aroma</th>\n",
       "      <th>review_palate</th>\n",
       "      <th>review_taste</th>\n",
       "    </tr>\n",
       "  </thead>\n",
       "  <tbody>\n",
       "    <tr>\n",
       "      <th>202456</th>\n",
       "      <td>Fat Tire Amber Ale</td>\n",
       "      <td>ATPete</td>\n",
       "      <td>4.5</td>\n",
       "      <td>4.0</td>\n",
       "      <td>4.0</td>\n",
       "      <td>4.5</td>\n",
       "    </tr>\n",
       "    <tr>\n",
       "      <th>201458</th>\n",
       "      <td>Fat Tire Amber Ale</td>\n",
       "      <td>AdamBear</td>\n",
       "      <td>3.5</td>\n",
       "      <td>2.5</td>\n",
       "      <td>4.5</td>\n",
       "      <td>3.5</td>\n",
       "    </tr>\n",
       "    <tr>\n",
       "      <th>201886</th>\n",
       "      <td>Fat Tire Amber Ale</td>\n",
       "      <td>AlCaponeJunior</td>\n",
       "      <td>2.0</td>\n",
       "      <td>3.0</td>\n",
       "      <td>3.5</td>\n",
       "      <td>3.0</td>\n",
       "    </tr>\n",
       "    <tr>\n",
       "      <th>202481</th>\n",
       "      <td>Fat Tire Amber Ale</td>\n",
       "      <td>AltBock</td>\n",
       "      <td>4.0</td>\n",
       "      <td>3.0</td>\n",
       "      <td>3.0</td>\n",
       "      <td>3.0</td>\n",
       "    </tr>\n",
       "    <tr>\n",
       "      <th>201803</th>\n",
       "      <td>Fat Tire Amber Ale</td>\n",
       "      <td>Andreji</td>\n",
       "      <td>4.0</td>\n",
       "      <td>4.5</td>\n",
       "      <td>4.0</td>\n",
       "      <td>4.0</td>\n",
       "    </tr>\n",
       "  </tbody>\n",
       "</table>\n",
       "</div>"
      ],
      "text/plain": [
       "                 beer_name review_profilename  review_overall  review_aroma  \\\n",
       "202456  Fat Tire Amber Ale             ATPete             4.5           4.0   \n",
       "201458  Fat Tire Amber Ale           AdamBear             3.5           2.5   \n",
       "201886  Fat Tire Amber Ale     AlCaponeJunior             2.0           3.0   \n",
       "202481  Fat Tire Amber Ale            AltBock             4.0           3.0   \n",
       "201803  Fat Tire Amber Ale            Andreji             4.0           4.5   \n",
       "\n",
       "        review_palate  review_taste  \n",
       "202456            4.0           4.5  \n",
       "201458            4.5           3.5  \n",
       "201886            3.5           3.0  \n",
       "202481            3.0           3.0  \n",
       "201803            4.0           4.0  "
      ]
     },
     "execution_count": 9,
     "metadata": {},
     "output_type": "execute_result"
    }
   ],
   "source": [
    "cols = ['beer_name', 'review_profilename', 'review_overall', 'review_aroma', 'review_palate', 'review_taste']\n",
    "beer_2_reviews[cols].head()"
   ]
  },
  {
   "cell_type": "code",
   "execution_count": 10,
   "metadata": {
    "collapsed": true
   },
   "outputs": [],
   "source": [
    "# choose your own way to calculate distance\n",
    "from sklearn.metrics.pairwise import euclidean_distances\n",
    "from sklearn.metrics.pairwise import manhattan_distances\n",
    "from scipy.stats.stats import pearsonr\n",
    "\n",
    "\n",
    "ALL_FEATURES = ['review_overall', 'review_aroma', 'review_palate', 'review_taste']\n",
    "def calculate_similarity(beer1, beer2):\n",
    "    # find common reviewers\n",
    "    beer_1_reviewers = df[df.beer_name==beer1].review_profilename.unique()\n",
    "    beer_2_reviewers = df[df.beer_name==beer2].review_profilename.unique()\n",
    "    common_reviewers = set(beer_1_reviewers).intersection(beer_2_reviewers)\n",
    "\n",
    "    # get reviews\n",
    "    beer_1_reviews = get_beer_reviews(beer1, common_reviewers)\n",
    "    beer_2_reviews = get_beer_reviews(beer2, common_reviewers)\n",
    "    dists = []\n",
    "    for f in ALL_FEATURES:\n",
    "        dists.append(euclidean_distances(beer_1_reviews[f], beer_2_reviews[f])[0][0])\n",
    "    \n",
    "    return dists"
   ]
  },
  {
   "cell_type": "code",
   "execution_count": 11,
   "metadata": {
    "collapsed": false
   },
   "outputs": [
    {
     "data": {
      "text/plain": [
       "[17.592612085759182, 17.38533865071371, 16.454482671904334, 17.613914953808536]"
      ]
     },
     "execution_count": 11,
     "metadata": {},
     "output_type": "execute_result"
    }
   ],
   "source": [
    "calculate_similarity(beer_1, beer_2)"
   ]
  },
  {
   "cell_type": "markdown",
   "metadata": {
    "collapsed": true
   },
   "source": [
    "# Expanding the logic to broader set"
   ]
  },
  {
   "cell_type": "code",
   "execution_count": 12,
   "metadata": {
    "collapsed": true
   },
   "outputs": [],
   "source": [
    "# calculate only a subset for the demo\n",
    "beers = [\"Dale's Pale Ale\", \"Sierra Nevada Pale Ale\", \"Michelob Ultra\",\n",
    "         \"Natural Light\", \"Bud Light\", \"Fat Tire Amber Ale\", \"Coors Light\",\n",
    "         \"Blue Moon Belgian White\", \"60 Minute IPA\", \"Guinness Draught\"]"
   ]
  },
  {
   "cell_type": "code",
   "execution_count": 13,
   "metadata": {
    "collapsed": false
   },
   "outputs": [
    {
     "name": "stdout",
     "output_type": "stream",
     "text": [
      "starting Dale's Pale Ale\n",
      "starting Sierra Nevada Pale Ale\n",
      "starting Michelob Ultra\n",
      "starting Natural Light\n",
      "starting Bud Light\n",
      "starting Fat Tire Amber Ale\n",
      "starting Coors Light\n",
      "starting Blue Moon Belgian White\n",
      "starting 60 Minute IPA\n",
      "starting Guinness Draught\n"
     ]
    }
   ],
   "source": [
    "# calculate everything for real production\n",
    "# beers = df.beer_name.unique()\n",
    "\n",
    "simple_distances = []\n",
    "for beer1 in beers:\n",
    "    print \"starting\", beer1\n",
    "    for beer2 in beers:\n",
    "        if beer1 != beer2:\n",
    "            row = [beer1, beer2] + calculate_similarity(beer1, beer2)\n",
    "            simple_distances.append(row)"
   ]
  },
  {
   "cell_type": "code",
   "execution_count": 20,
   "metadata": {
    "collapsed": false
   },
   "outputs": [
    {
     "data": {
      "text/html": [
       "<div style=\"max-height:1000px;max-width:1500px;overflow:auto;\">\n",
       "<table border=\"1\" class=\"dataframe\">\n",
       "  <thead>\n",
       "    <tr style=\"text-align: right;\">\n",
       "      <th></th>\n",
       "      <th>beer1</th>\n",
       "      <th>beer2</th>\n",
       "      <th>overall_dist</th>\n",
       "      <th>aroma_dist</th>\n",
       "      <th>palate_dist</th>\n",
       "      <th>taste_dist</th>\n",
       "    </tr>\n",
       "  </thead>\n",
       "  <tbody>\n",
       "    <tr>\n",
       "      <th>85</th>\n",
       "      <td>Guinness Draught</td>\n",
       "      <td>Bud Light</td>\n",
       "      <td>44.260592</td>\n",
       "      <td>42.520583</td>\n",
       "      <td>45.825757</td>\n",
       "      <td>44.452222</td>\n",
       "    </tr>\n",
       "    <tr>\n",
       "      <th>86</th>\n",
       "      <td>Guinness Draught</td>\n",
       "      <td>Fat Tire Amber Ale</td>\n",
       "      <td>23.958297</td>\n",
       "      <td>21.023796</td>\n",
       "      <td>25.014996</td>\n",
       "      <td>22.798026</td>\n",
       "    </tr>\n",
       "    <tr>\n",
       "      <th>87</th>\n",
       "      <td>Guinness Draught</td>\n",
       "      <td>Coors Light</td>\n",
       "      <td>41.237119</td>\n",
       "      <td>38.823318</td>\n",
       "      <td>43.508620</td>\n",
       "      <td>40.620192</td>\n",
       "    </tr>\n",
       "    <tr>\n",
       "      <th>88</th>\n",
       "      <td>Guinness Draught</td>\n",
       "      <td>Blue Moon Belgian White</td>\n",
       "      <td>27.147744</td>\n",
       "      <td>22.477767</td>\n",
       "      <td>25.806976</td>\n",
       "      <td>23.727621</td>\n",
       "    </tr>\n",
       "    <tr>\n",
       "      <th>89</th>\n",
       "      <td>Guinness Draught</td>\n",
       "      <td>60 Minute IPA</td>\n",
       "      <td>31.348844</td>\n",
       "      <td>32.310989</td>\n",
       "      <td>32.256782</td>\n",
       "      <td>34.510868</td>\n",
       "    </tr>\n",
       "  </tbody>\n",
       "</table>\n",
       "</div>"
      ],
      "text/plain": [
       "               beer1                    beer2  overall_dist  aroma_dist  \\\n",
       "85  Guinness Draught                Bud Light     44.260592   42.520583   \n",
       "86  Guinness Draught       Fat Tire Amber Ale     23.958297   21.023796   \n",
       "87  Guinness Draught              Coors Light     41.237119   38.823318   \n",
       "88  Guinness Draught  Blue Moon Belgian White     27.147744   22.477767   \n",
       "89  Guinness Draught            60 Minute IPA     31.348844   32.310989   \n",
       "\n",
       "    palate_dist  taste_dist  \n",
       "85    45.825757   44.452222  \n",
       "86    25.014996   22.798026  \n",
       "87    43.508620   40.620192  \n",
       "88    25.806976   23.727621  \n",
       "89    32.256782   34.510868  "
      ]
     },
     "execution_count": 20,
     "metadata": {},
     "output_type": "execute_result"
    }
   ],
   "source": [
    "cols = [\"beer1\", \"beer2\", \"overall_dist\", \"aroma_dist\", \"palate_dist\", \"taste_dist\"]\n",
    "simple_distances = pd.DataFrame(simple_distances, columns=cols)\n",
    "simple_distances.tail()"
   ]
  },
  {
   "cell_type": "markdown",
   "metadata": {},
   "source": [
    "# Special Case - Customize Weights"
   ]
  },
  {
   "cell_type": "code",
   "execution_count": 21,
   "metadata": {
    "collapsed": false
   },
   "outputs": [
    {
     "name": "stdout",
     "output_type": "stream",
     "text": [
      "126.307851472\n",
      "161.776326287\n"
     ]
    }
   ],
   "source": [
    "def calc_distance(dists, beer1, beer2, weights):\n",
    "    mask = (dists.beer1==beer1) & (dists.beer2==beer2)\n",
    "    row = dists[mask]\n",
    "    row = row[['overall_dist', 'aroma_dist', 'palate_dist', 'taste_dist']]\n",
    "    dist = weights * row\n",
    "    return dist.sum(axis=1).tolist()[0]\n",
    "\n",
    "weights = [2, 1, 1, 1]\n",
    "print calc_distance(simple_distances, \"Guinness Draught\", \"Blue Moon Belgian White\", weights)\n",
    "print calc_distance(simple_distances, \"Guinness Draught\", \"60 Minute IPA\", weights)"
   ]
  },
  {
   "cell_type": "markdown",
   "metadata": {},
   "source": [
    "# Check Recommendations"
   ]
  },
  {
   "cell_type": "code",
   "execution_count": 22,
   "metadata": {
    "collapsed": false
   },
   "outputs": [
    {
     "data": {
      "text/plain": [
       "[('Coors Light', 'Natural Light', 69.523201228303634),\n",
       " ('Coors Light', 'Michelob Ultra', 72.430376465589802),\n",
       " ('Coors Light', 'Bud Light', 100.45382254092895),\n",
       " ('Coors Light', 'Blue Moon Belgian White', 175.24657417286627),\n",
       " ('Coors Light', 'Fat Tire Amber Ale', 176.31863930228485),\n",
       " ('Coors Light', \"Dale's Pale Ale\", 181.20123311633913),\n",
       " ('Coors Light', 'Guinness Draught', 205.42636799646337),\n",
       " ('Coors Light', '60 Minute IPA', 233.40510433819486),\n",
       " ('Coors Light', 'Sierra Nevada Pale Ale', 254.78216241090442)]"
      ]
     },
     "execution_count": 22,
     "metadata": {},
     "output_type": "execute_result"
    }
   ],
   "source": [
    "my_beer = \"Coors Light\"\n",
    "results = []\n",
    "for b in beers:\n",
    "    if my_beer!=b:\n",
    "        results.append((my_beer, b, calc_distance(simple_distances, my_beer, b, weights)))\n",
    "sorted(results, key=lambda x: x[2])"
   ]
  },
  {
   "cell_type": "markdown",
   "metadata": {},
   "source": [
    "# Solution 2 - Item Similarity Method\n",
    "(calculates beers which are most similar to the beers provided)"
   ]
  },
  {
   "cell_type": "markdown",
   "metadata": {},
   "source": [
    "Let's grab the top 250 beers"
   ]
  },
  {
   "cell_type": "code",
   "execution_count": 27,
   "metadata": {
    "collapsed": false
   },
   "outputs": [
    {
     "name": "stdout",
     "output_type": "stream",
     "text": [
      "(250,)\n",
      "<class 'pandas.core.frame.DataFrame'>\n",
      "Int64Index: 355275 entries, 798 to 1586564\n",
      "Data columns (total 13 columns):\n",
      "brewery_id            355275 non-null int64\n",
      "brewery_name          355275 non-null object\n",
      "review_time           355275 non-null int64\n",
      "review_overall        355275 non-null float64\n",
      "review_aroma          355275 non-null float64\n",
      "review_appearance     355275 non-null float64\n",
      "review_profilename    355175 non-null object\n",
      "beer_style            355275 non-null object\n",
      "review_palate         355275 non-null float64\n",
      "review_taste          355275 non-null float64\n",
      "beer_name             355275 non-null object\n",
      "beer_abv              353477 non-null float64\n",
      "beer_beerid           355275 non-null int64\n",
      "dtypes: float64(6), int64(3), object(4)\n",
      "memory usage: 37.9+ MB\n",
      "None\n"
     ]
    },
    {
     "data": {
      "text/html": [
       "<div style=\"max-height:1000px;max-width:1500px;overflow:auto;\">\n",
       "<table border=\"1\" class=\"dataframe\">\n",
       "  <thead>\n",
       "    <tr style=\"text-align: right;\">\n",
       "      <th></th>\n",
       "      <th>brewery_id</th>\n",
       "      <th>brewery_name</th>\n",
       "      <th>review_time</th>\n",
       "      <th>review_overall</th>\n",
       "      <th>review_aroma</th>\n",
       "      <th>review_appearance</th>\n",
       "      <th>review_profilename</th>\n",
       "      <th>beer_style</th>\n",
       "      <th>review_palate</th>\n",
       "      <th>review_taste</th>\n",
       "      <th>beer_name</th>\n",
       "      <th>beer_abv</th>\n",
       "      <th>beer_beerid</th>\n",
       "    </tr>\n",
       "  </thead>\n",
       "  <tbody>\n",
       "    <tr>\n",
       "      <th>798</th>\n",
       "      <td>1075</td>\n",
       "      <td>Caldera Brewing Company</td>\n",
       "      <td>1212201268</td>\n",
       "      <td>4.5</td>\n",
       "      <td>4.5</td>\n",
       "      <td>4</td>\n",
       "      <td>grumpy</td>\n",
       "      <td>American Double / Imperial Stout</td>\n",
       "      <td>4.0</td>\n",
       "      <td>4.5</td>\n",
       "      <td>Imperial Stout</td>\n",
       "      <td>NaN</td>\n",
       "      <td>42964</td>\n",
       "    </tr>\n",
       "    <tr>\n",
       "      <th>1559</th>\n",
       "      <td>11715</td>\n",
       "      <td>Destiny Brewing Company</td>\n",
       "      <td>1137124057</td>\n",
       "      <td>4.0</td>\n",
       "      <td>3.5</td>\n",
       "      <td>4</td>\n",
       "      <td>blitheringidiot</td>\n",
       "      <td>American Pale Ale (APA)</td>\n",
       "      <td>3.5</td>\n",
       "      <td>3.5</td>\n",
       "      <td>Pale Ale</td>\n",
       "      <td>4.5</td>\n",
       "      <td>26420</td>\n",
       "    </tr>\n",
       "    <tr>\n",
       "      <th>1560</th>\n",
       "      <td>11715</td>\n",
       "      <td>Destiny Brewing Company</td>\n",
       "      <td>1129504403</td>\n",
       "      <td>4.0</td>\n",
       "      <td>2.5</td>\n",
       "      <td>4</td>\n",
       "      <td>NeroFiddled</td>\n",
       "      <td>American Pale Ale (APA)</td>\n",
       "      <td>4.0</td>\n",
       "      <td>3.5</td>\n",
       "      <td>Pale Ale</td>\n",
       "      <td>4.5</td>\n",
       "      <td>26420</td>\n",
       "    </tr>\n",
       "    <tr>\n",
       "      <th>1563</th>\n",
       "      <td>11715</td>\n",
       "      <td>Destiny Brewing Company</td>\n",
       "      <td>1137125989</td>\n",
       "      <td>3.5</td>\n",
       "      <td>3.0</td>\n",
       "      <td>4</td>\n",
       "      <td>blitheringidiot</td>\n",
       "      <td>American IPA</td>\n",
       "      <td>4.0</td>\n",
       "      <td>4.0</td>\n",
       "      <td>IPA</td>\n",
       "      <td>NaN</td>\n",
       "      <td>26132</td>\n",
       "    </tr>\n",
       "    <tr>\n",
       "      <th>1564</th>\n",
       "      <td>11715</td>\n",
       "      <td>Destiny Brewing Company</td>\n",
       "      <td>1130936611</td>\n",
       "      <td>3.0</td>\n",
       "      <td>3.0</td>\n",
       "      <td>3</td>\n",
       "      <td>Gavage</td>\n",
       "      <td>American IPA</td>\n",
       "      <td>4.0</td>\n",
       "      <td>3.5</td>\n",
       "      <td>IPA</td>\n",
       "      <td>NaN</td>\n",
       "      <td>26132</td>\n",
       "    </tr>\n",
       "  </tbody>\n",
       "</table>\n",
       "</div>"
      ],
      "text/plain": [
       "      brewery_id             brewery_name  review_time  review_overall  \\\n",
       "798         1075  Caldera Brewing Company   1212201268             4.5   \n",
       "1559       11715  Destiny Brewing Company   1137124057             4.0   \n",
       "1560       11715  Destiny Brewing Company   1129504403             4.0   \n",
       "1563       11715  Destiny Brewing Company   1137125989             3.5   \n",
       "1564       11715  Destiny Brewing Company   1130936611             3.0   \n",
       "\n",
       "      review_aroma  review_appearance review_profilename  \\\n",
       "798            4.5                  4             grumpy   \n",
       "1559           3.5                  4    blitheringidiot   \n",
       "1560           2.5                  4        NeroFiddled   \n",
       "1563           3.0                  4    blitheringidiot   \n",
       "1564           3.0                  3             Gavage   \n",
       "\n",
       "                            beer_style  review_palate  review_taste  \\\n",
       "798   American Double / Imperial Stout            4.0           4.5   \n",
       "1559           American Pale Ale (APA)            3.5           3.5   \n",
       "1560           American Pale Ale (APA)            4.0           3.5   \n",
       "1563                      American IPA            4.0           4.0   \n",
       "1564                      American IPA            4.0           3.5   \n",
       "\n",
       "           beer_name  beer_abv  beer_beerid  \n",
       "798   Imperial Stout       NaN        42964  \n",
       "1559        Pale Ale       4.5        26420  \n",
       "1560        Pale Ale       4.5        26420  \n",
       "1563             IPA       NaN        26132  \n",
       "1564             IPA       NaN        26132  "
      ]
     },
     "execution_count": 27,
     "metadata": {},
     "output_type": "execute_result"
    }
   ],
   "source": [
    "n = 250\n",
    "top_n = df.beer_name.value_counts().index[:n]\n",
    "df = df[df.beer_name.isin(top_n)]\n",
    "\n",
    "print top_n.shape\n",
    "print df.info()\n",
    "df.head()"
   ]
  },
  {
   "cell_type": "code",
   "execution_count": 30,
   "metadata": {
    "collapsed": false
   },
   "outputs": [
    {
     "data": {
      "text/plain": [
       "(250, 22140)"
      ]
     },
     "execution_count": 30,
     "metadata": {},
     "output_type": "execute_result"
    }
   ],
   "source": [
    "df_wide = pd.pivot_table(df, values=[\"review_overall\"], index=[\"beer_name\", \"review_profilename\"],aggfunc=np.mean).unstack()\n",
    "df_wide.shape"
   ]
  },
  {
   "cell_type": "code",
   "execution_count": 31,
   "metadata": {
    "collapsed": true
   },
   "outputs": [],
   "source": [
    "df_wide = df_wide.fillna(0)"
   ]
  },
  {
   "cell_type": "code",
   "execution_count": 32,
   "metadata": {
    "collapsed": false
   },
   "outputs": [
    {
     "data": {
      "text/html": [
       "<div style=\"max-height:1000px;max-width:1500px;overflow:auto;\">\n",
       "<table border=\"1\" class=\"dataframe\">\n",
       "  <thead>\n",
       "    <tr>\n",
       "      <th></th>\n",
       "      <th colspan=\"5\" halign=\"left\">review_overall</th>\n",
       "    </tr>\n",
       "    <tr>\n",
       "      <th>review_profilename</th>\n",
       "      <th>0110x011</th>\n",
       "      <th>02maxima</th>\n",
       "      <th>03SVTCobra</th>\n",
       "      <th>05Harley</th>\n",
       "      <th>0Naught0</th>\n",
       "    </tr>\n",
       "    <tr>\n",
       "      <th>beer_name</th>\n",
       "      <th></th>\n",
       "      <th></th>\n",
       "      <th></th>\n",
       "      <th></th>\n",
       "      <th></th>\n",
       "    </tr>\n",
       "  </thead>\n",
       "  <tbody>\n",
       "    <tr>\n",
       "      <th>#9</th>\n",
       "      <td>0</td>\n",
       "      <td>0</td>\n",
       "      <td>0</td>\n",
       "      <td>0</td>\n",
       "      <td>0</td>\n",
       "    </tr>\n",
       "    <tr>\n",
       "      <th>120 Minute IPA</th>\n",
       "      <td>0</td>\n",
       "      <td>0</td>\n",
       "      <td>0</td>\n",
       "      <td>4</td>\n",
       "      <td>0</td>\n",
       "    </tr>\n",
       "    <tr>\n",
       "      <th>1554 Enlightened Black Ale</th>\n",
       "      <td>0</td>\n",
       "      <td>0</td>\n",
       "      <td>0</td>\n",
       "      <td>0</td>\n",
       "      <td>0</td>\n",
       "    </tr>\n",
       "    <tr>\n",
       "      <th>60 Minute IPA</th>\n",
       "      <td>0</td>\n",
       "      <td>0</td>\n",
       "      <td>0</td>\n",
       "      <td>0</td>\n",
       "      <td>0</td>\n",
       "    </tr>\n",
       "    <tr>\n",
       "      <th>90 Minute IPA</th>\n",
       "      <td>5</td>\n",
       "      <td>0</td>\n",
       "      <td>0</td>\n",
       "      <td>4</td>\n",
       "      <td>0</td>\n",
       "    </tr>\n",
       "  </tbody>\n",
       "</table>\n",
       "</div>"
      ],
      "text/plain": [
       "                           review_overall                               \\\n",
       "review_profilename               0110x011 02maxima 03SVTCobra 05Harley   \n",
       "beer_name                                                                \n",
       "#9                                      0        0          0        0   \n",
       "120 Minute IPA                          0        0          0        4   \n",
       "1554 Enlightened Black Ale              0        0          0        0   \n",
       "60 Minute IPA                           0        0          0        0   \n",
       "90 Minute IPA                           5        0          0        4   \n",
       "\n",
       "                                     \n",
       "review_profilename         0Naught0  \n",
       "beer_name                            \n",
       "#9                                0  \n",
       "120 Minute IPA                    0  \n",
       "1554 Enlightened Black Ale        0  \n",
       "60 Minute IPA                     0  \n",
       "90 Minute IPA                     0  "
      ]
     },
     "execution_count": 32,
     "metadata": {},
     "output_type": "execute_result"
    }
   ],
   "source": [
    "df_wide.ix[0:5, 0:5]"
   ]
  },
  {
   "cell_type": "code",
   "execution_count": 33,
   "metadata": {
    "collapsed": false
   },
   "outputs": [
    {
     "data": {
      "text/plain": [
       "array([[ 1.        ,  0.27540494,  0.27410345, ...,  0.32928048,\n",
       "         0.34805798,  0.31249922],\n",
       "       [ 0.27540494,  1.        ,  0.25151873, ...,  0.2854835 ,\n",
       "         0.23301356,  0.2802485 ],\n",
       "       [ 0.27410345,  0.25151873,  1.        , ...,  0.31629515,\n",
       "         0.22521858,  0.2737628 ],\n",
       "       ..., \n",
       "       [ 0.32928048,  0.2854835 ,  0.31629515, ...,  1.        ,\n",
       "         0.28025764,  0.34504013],\n",
       "       [ 0.34805798,  0.23301356,  0.22521858, ...,  0.28025764,\n",
       "         1.        ,  0.25526913],\n",
       "       [ 0.31249922,  0.2802485 ,  0.2737628 , ...,  0.34504013,\n",
       "         0.25526913,  1.        ]])"
      ]
     },
     "execution_count": 33,
     "metadata": {},
     "output_type": "execute_result"
    }
   ],
   "source": [
    "from sklearn.metrics.pairwise import cosine_similarity\n",
    "from sklearn.metrics.pairwise import manhattan_distances\n",
    "from sklearn.metrics.pairwise import euclidean_distances\n",
    "#from sklearn.metrics.pairwise import \n",
    "\n",
    "dists = cosine_similarity(df_wide)\n",
    "dists"
   ]
  },
  {
   "cell_type": "code",
   "execution_count": 34,
   "metadata": {
    "collapsed": false
   },
   "outputs": [
    {
     "data": {
      "text/html": [
       "<div style=\"max-height:1000px;max-width:1500px;overflow:auto;\">\n",
       "<table border=\"1\" class=\"dataframe\">\n",
       "  <thead>\n",
       "    <tr style=\"text-align: right;\">\n",
       "      <th>beer_name</th>\n",
       "      <th>#9</th>\n",
       "      <th>120 Minute IPA</th>\n",
       "      <th>1554 Enlightened Black Ale</th>\n",
       "      <th>60 Minute IPA</th>\n",
       "      <th>90 Minute IPA</th>\n",
       "      <th>Aecht Schlenkerla Rauchbier Märzen</th>\n",
       "      <th>AleSmith IPA</th>\n",
       "      <th>AleSmith Speedway Stout</th>\n",
       "      <th>Allagash White</th>\n",
       "      <th>Alpha King Pale Ale</th>\n",
       "    </tr>\n",
       "    <tr>\n",
       "      <th>beer_name</th>\n",
       "      <th></th>\n",
       "      <th></th>\n",
       "      <th></th>\n",
       "      <th></th>\n",
       "      <th></th>\n",
       "      <th></th>\n",
       "      <th></th>\n",
       "      <th></th>\n",
       "      <th></th>\n",
       "      <th></th>\n",
       "    </tr>\n",
       "  </thead>\n",
       "  <tbody>\n",
       "    <tr>\n",
       "      <th>#9</th>\n",
       "      <td>1.000000</td>\n",
       "      <td>0.275405</td>\n",
       "      <td>0.274103</td>\n",
       "      <td>0.388364</td>\n",
       "      <td>0.365175</td>\n",
       "      <td>0.253841</td>\n",
       "      <td>0.228479</td>\n",
       "      <td>0.227612</td>\n",
       "      <td>0.340681</td>\n",
       "      <td>0.293315</td>\n",
       "    </tr>\n",
       "    <tr>\n",
       "      <th>120 Minute IPA</th>\n",
       "      <td>0.275405</td>\n",
       "      <td>1.000000</td>\n",
       "      <td>0.251519</td>\n",
       "      <td>0.378258</td>\n",
       "      <td>0.410366</td>\n",
       "      <td>0.262425</td>\n",
       "      <td>0.315971</td>\n",
       "      <td>0.337541</td>\n",
       "      <td>0.282273</td>\n",
       "      <td>0.336796</td>\n",
       "    </tr>\n",
       "    <tr>\n",
       "      <th>1554 Enlightened Black Ale</th>\n",
       "      <td>0.274103</td>\n",
       "      <td>0.251519</td>\n",
       "      <td>1.000000</td>\n",
       "      <td>0.319887</td>\n",
       "      <td>0.314028</td>\n",
       "      <td>0.252486</td>\n",
       "      <td>0.266866</td>\n",
       "      <td>0.261761</td>\n",
       "      <td>0.260275</td>\n",
       "      <td>0.307296</td>\n",
       "    </tr>\n",
       "    <tr>\n",
       "      <th>60 Minute IPA</th>\n",
       "      <td>0.388364</td>\n",
       "      <td>0.378258</td>\n",
       "      <td>0.319887</td>\n",
       "      <td>1.000000</td>\n",
       "      <td>0.533042</td>\n",
       "      <td>0.316928</td>\n",
       "      <td>0.312343</td>\n",
       "      <td>0.307627</td>\n",
       "      <td>0.360975</td>\n",
       "      <td>0.385249</td>\n",
       "    </tr>\n",
       "    <tr>\n",
       "      <th>90 Minute IPA</th>\n",
       "      <td>0.365175</td>\n",
       "      <td>0.410366</td>\n",
       "      <td>0.314028</td>\n",
       "      <td>0.533042</td>\n",
       "      <td>1.000000</td>\n",
       "      <td>0.312861</td>\n",
       "      <td>0.344218</td>\n",
       "      <td>0.358754</td>\n",
       "      <td>0.356804</td>\n",
       "      <td>0.418582</td>\n",
       "    </tr>\n",
       "    <tr>\n",
       "      <th>Aecht Schlenkerla Rauchbier Märzen</th>\n",
       "      <td>0.253841</td>\n",
       "      <td>0.262425</td>\n",
       "      <td>0.252486</td>\n",
       "      <td>0.316928</td>\n",
       "      <td>0.312861</td>\n",
       "      <td>1.000000</td>\n",
       "      <td>0.244490</td>\n",
       "      <td>0.246063</td>\n",
       "      <td>0.297672</td>\n",
       "      <td>0.263248</td>\n",
       "    </tr>\n",
       "    <tr>\n",
       "      <th>AleSmith IPA</th>\n",
       "      <td>0.228479</td>\n",
       "      <td>0.315971</td>\n",
       "      <td>0.266866</td>\n",
       "      <td>0.312343</td>\n",
       "      <td>0.344218</td>\n",
       "      <td>0.244490</td>\n",
       "      <td>1.000000</td>\n",
       "      <td>0.521889</td>\n",
       "      <td>0.277409</td>\n",
       "      <td>0.400741</td>\n",
       "    </tr>\n",
       "    <tr>\n",
       "      <th>AleSmith Speedway Stout</th>\n",
       "      <td>0.227612</td>\n",
       "      <td>0.337541</td>\n",
       "      <td>0.261761</td>\n",
       "      <td>0.307627</td>\n",
       "      <td>0.358754</td>\n",
       "      <td>0.246063</td>\n",
       "      <td>0.521889</td>\n",
       "      <td>1.000000</td>\n",
       "      <td>0.273930</td>\n",
       "      <td>0.420247</td>\n",
       "    </tr>\n",
       "    <tr>\n",
       "      <th>Allagash White</th>\n",
       "      <td>0.340681</td>\n",
       "      <td>0.282273</td>\n",
       "      <td>0.260275</td>\n",
       "      <td>0.360975</td>\n",
       "      <td>0.356804</td>\n",
       "      <td>0.297672</td>\n",
       "      <td>0.277409</td>\n",
       "      <td>0.273930</td>\n",
       "      <td>1.000000</td>\n",
       "      <td>0.295666</td>\n",
       "    </tr>\n",
       "    <tr>\n",
       "      <th>Alpha King Pale Ale</th>\n",
       "      <td>0.293315</td>\n",
       "      <td>0.336796</td>\n",
       "      <td>0.307296</td>\n",
       "      <td>0.385249</td>\n",
       "      <td>0.418582</td>\n",
       "      <td>0.263248</td>\n",
       "      <td>0.400741</td>\n",
       "      <td>0.420247</td>\n",
       "      <td>0.295666</td>\n",
       "      <td>1.000000</td>\n",
       "    </tr>\n",
       "  </tbody>\n",
       "</table>\n",
       "</div>"
      ],
      "text/plain": [
       "beer_name                                 #9  120 Minute IPA  \\\n",
       "beer_name                                                      \n",
       "#9                                  1.000000        0.275405   \n",
       "120 Minute IPA                      0.275405        1.000000   \n",
       "1554 Enlightened Black Ale          0.274103        0.251519   \n",
       "60 Minute IPA                       0.388364        0.378258   \n",
       "90 Minute IPA                       0.365175        0.410366   \n",
       "Aecht Schlenkerla Rauchbier Märzen  0.253841        0.262425   \n",
       "AleSmith IPA                        0.228479        0.315971   \n",
       "AleSmith Speedway Stout             0.227612        0.337541   \n",
       "Allagash White                      0.340681        0.282273   \n",
       "Alpha King Pale Ale                 0.293315        0.336796   \n",
       "\n",
       "beer_name                           1554 Enlightened Black Ale  60 Minute IPA  \\\n",
       "beer_name                                                                       \n",
       "#9                                                    0.274103       0.388364   \n",
       "120 Minute IPA                                        0.251519       0.378258   \n",
       "1554 Enlightened Black Ale                            1.000000       0.319887   \n",
       "60 Minute IPA                                         0.319887       1.000000   \n",
       "90 Minute IPA                                         0.314028       0.533042   \n",
       "Aecht Schlenkerla Rauchbier Märzen                    0.252486       0.316928   \n",
       "AleSmith IPA                                          0.266866       0.312343   \n",
       "AleSmith Speedway Stout                               0.261761       0.307627   \n",
       "Allagash White                                        0.260275       0.360975   \n",
       "Alpha King Pale Ale                                   0.307296       0.385249   \n",
       "\n",
       "beer_name                           90 Minute IPA  \\\n",
       "beer_name                                           \n",
       "#9                                       0.365175   \n",
       "120 Minute IPA                           0.410366   \n",
       "1554 Enlightened Black Ale               0.314028   \n",
       "60 Minute IPA                            0.533042   \n",
       "90 Minute IPA                            1.000000   \n",
       "Aecht Schlenkerla Rauchbier Märzen       0.312861   \n",
       "AleSmith IPA                             0.344218   \n",
       "AleSmith Speedway Stout                  0.358754   \n",
       "Allagash White                           0.356804   \n",
       "Alpha King Pale Ale                      0.418582   \n",
       "\n",
       "beer_name                           Aecht Schlenkerla Rauchbier Märzen  \\\n",
       "beer_name                                                                \n",
       "#9                                                            0.253841   \n",
       "120 Minute IPA                                                0.262425   \n",
       "1554 Enlightened Black Ale                                    0.252486   \n",
       "60 Minute IPA                                                 0.316928   \n",
       "90 Minute IPA                                                 0.312861   \n",
       "Aecht Schlenkerla Rauchbier Märzen                            1.000000   \n",
       "AleSmith IPA                                                  0.244490   \n",
       "AleSmith Speedway Stout                                       0.246063   \n",
       "Allagash White                                                0.297672   \n",
       "Alpha King Pale Ale                                           0.263248   \n",
       "\n",
       "beer_name                           AleSmith IPA  AleSmith Speedway Stout  \\\n",
       "beer_name                                                                   \n",
       "#9                                      0.228479                 0.227612   \n",
       "120 Minute IPA                          0.315971                 0.337541   \n",
       "1554 Enlightened Black Ale              0.266866                 0.261761   \n",
       "60 Minute IPA                           0.312343                 0.307627   \n",
       "90 Minute IPA                           0.344218                 0.358754   \n",
       "Aecht Schlenkerla Rauchbier Märzen      0.244490                 0.246063   \n",
       "AleSmith IPA                            1.000000                 0.521889   \n",
       "AleSmith Speedway Stout                 0.521889                 1.000000   \n",
       "Allagash White                          0.277409                 0.273930   \n",
       "Alpha King Pale Ale                     0.400741                 0.420247   \n",
       "\n",
       "beer_name                           Allagash White  Alpha King Pale Ale  \n",
       "beer_name                                                                \n",
       "#9                                        0.340681             0.293315  \n",
       "120 Minute IPA                            0.282273             0.336796  \n",
       "1554 Enlightened Black Ale                0.260275             0.307296  \n",
       "60 Minute IPA                             0.360975             0.385249  \n",
       "90 Minute IPA                             0.356804             0.418582  \n",
       "Aecht Schlenkerla Rauchbier Märzen        0.297672             0.263248  \n",
       "AleSmith IPA                              0.277409             0.400741  \n",
       "AleSmith Speedway Stout                   0.273930             0.420247  \n",
       "Allagash White                            1.000000             0.295666  \n",
       "Alpha King Pale Ale                       0.295666             1.000000  "
      ]
     },
     "execution_count": 34,
     "metadata": {},
     "output_type": "execute_result"
    }
   ],
   "source": [
    "dists = pd.DataFrame(dists, columns=df_wide.index)\n",
    "# give the indicies (equivalent to rownames in R) the name of the product id\n",
    "dists.index = dists.columns\n",
    "dists.ix[0:10, 0:10]"
   ]
  },
  {
   "cell_type": "code",
   "execution_count": 35,
   "metadata": {
    "collapsed": false
   },
   "outputs": [
    {
     "data": {
      "text/html": [
       "<div style=\"max-height:1000px;max-width:1500px;overflow:auto;\">\n",
       "<table border=\"1\" class=\"dataframe\">\n",
       "  <thead>\n",
       "    <tr style=\"text-align: right;\">\n",
       "      <th>beer_name</th>\n",
       "      <th>Sierra Nevada Pale Ale</th>\n",
       "      <th>120 Minute IPA</th>\n",
       "      <th>Allagash White</th>\n",
       "    </tr>\n",
       "    <tr>\n",
       "      <th>beer_name</th>\n",
       "      <th></th>\n",
       "      <th></th>\n",
       "      <th></th>\n",
       "    </tr>\n",
       "  </thead>\n",
       "  <tbody>\n",
       "    <tr>\n",
       "      <th>#9</th>\n",
       "      <td>0.373968</td>\n",
       "      <td>0.275405</td>\n",
       "      <td>0.340681</td>\n",
       "    </tr>\n",
       "    <tr>\n",
       "      <th>120 Minute IPA</th>\n",
       "      <td>0.301693</td>\n",
       "      <td>1.000000</td>\n",
       "      <td>0.282273</td>\n",
       "    </tr>\n",
       "    <tr>\n",
       "      <th>1554 Enlightened Black Ale</th>\n",
       "      <td>0.330033</td>\n",
       "      <td>0.251519</td>\n",
       "      <td>0.260275</td>\n",
       "    </tr>\n",
       "    <tr>\n",
       "      <th>60 Minute IPA</th>\n",
       "      <td>0.459641</td>\n",
       "      <td>0.378258</td>\n",
       "      <td>0.360975</td>\n",
       "    </tr>\n",
       "    <tr>\n",
       "      <th>90 Minute IPA</th>\n",
       "      <td>0.441189</td>\n",
       "      <td>0.410366</td>\n",
       "      <td>0.356804</td>\n",
       "    </tr>\n",
       "  </tbody>\n",
       "</table>\n",
       "</div>"
      ],
      "text/plain": [
       "beer_name                   Sierra Nevada Pale Ale  120 Minute IPA  \\\n",
       "beer_name                                                            \n",
       "#9                                        0.373968        0.275405   \n",
       "120 Minute IPA                            0.301693        1.000000   \n",
       "1554 Enlightened Black Ale                0.330033        0.251519   \n",
       "60 Minute IPA                             0.459641        0.378258   \n",
       "90 Minute IPA                             0.441189        0.410366   \n",
       "\n",
       "beer_name                   Allagash White  \n",
       "beer_name                                   \n",
       "#9                                0.340681  \n",
       "120 Minute IPA                    0.282273  \n",
       "1554 Enlightened Black Ale        0.260275  \n",
       "60 Minute IPA                     0.360975  \n",
       "90 Minute IPA                     0.356804  "
      ]
     },
     "execution_count": 35,
     "metadata": {},
     "output_type": "execute_result"
    }
   ],
   "source": [
    "beers_i_like = ['Sierra Nevada Pale Ale', '120 Minute IPA', 'Allagash White']\n",
    "dists[beers_i_like].head()"
   ]
  },
  {
   "cell_type": "code",
   "execution_count": 36,
   "metadata": {
    "collapsed": true
   },
   "outputs": [],
   "source": [
    "# axis = 1 b/c we want 1 score per beer, which are rows\n",
    "beers_summed = dists[beers_i_like].apply(lambda row: np.sum(row), axis=1)\n",
    "#beers_summed = beers_summed.reset_index()\n",
    "#beers_summed.columns = ['beer_name', 'total_distance']\n",
    "#beers_summed.sort(['beer_name'], ascending=False).head(10)\n",
    "#beers_summed.sort(['total_distance'], ascending=False).head(10)"
   ]
  },
  {
   "cell_type": "code",
   "execution_count": 37,
   "metadata": {
    "collapsed": false
   },
   "outputs": [
    {
     "data": {
      "text/plain": [
       "beer_name\n",
       "#9                            0.990054\n",
       "120 Minute IPA                1.583966\n",
       "1554 Enlightened Black Ale    0.841827\n",
       "60 Minute IPA                 1.198874\n",
       "90 Minute IPA                 1.208359\n",
       "dtype: float64"
      ]
     },
     "execution_count": 37,
     "metadata": {},
     "output_type": "execute_result"
    }
   ],
   "source": [
    "beers_summed.head()"
   ]
  },
  {
   "cell_type": "code",
   "execution_count": 38,
   "metadata": {
    "collapsed": false
   },
   "outputs": [
    {
     "data": {
      "text/plain": [
       "beer_name\n",
       "Sierra Nevada Pale Ale                        1.654205\n",
       "Allagash White                                1.634784\n",
       "120 Minute IPA                                1.583966\n",
       "HopDevil Ale                                  1.224217\n",
       "Sierra Nevada Celebration Ale                 1.215156\n",
       "90 Minute IPA                                 1.208359\n",
       "60 Minute IPA                                 1.198874\n",
       "Stone Ruination IPA                           1.194210\n",
       "Stone IPA (India Pale Ale)                    1.193193\n",
       "Storm King Stout                              1.192405\n",
       "Arrogant Bastard Ale                          1.189981\n",
       "Sierra Nevada Bigfoot Barleywine Style Ale    1.178245\n",
       "Prima Pils                                    1.178093\n",
       "Brooklyn Black Chocolate Stout                1.156365\n",
       "Ayinger Celebrator Doppelbock                 1.148356\n",
       "Hennepin (Farmhouse Saison)                   1.147501\n",
       "Samuel Adams Boston Lager                     1.146304\n",
       "Hop Rod Rye                                   1.140271\n",
       "Old Rasputin Russian Imperial Stout           1.136691\n",
       "La Fin Du Monde                               1.128933\n",
       "Hop Wallop                                    1.127292\n",
       "Double Bastard Ale                            1.123117\n",
       "Two Hearted Ale                               1.120865\n",
       "Stone Smoked Porter                           1.115290\n",
       "St. Bernardus Abt 12                          1.109141\n",
       "Schneider Aventinus                           1.106357\n",
       "India Pale Ale                                1.104981\n",
       "Stone Imperial Russian Stout                  1.102951\n",
       "Anchor Steam Beer                             1.101660\n",
       "Duvel                                         1.099554\n",
       "                                                ...   \n",
       "Samuel Adams Cherry Wheat                     0.813352\n",
       "Sculpin India Pale Ale                        0.803009\n",
       "Blind Pig IPA                                 0.796287\n",
       "Red Stripe Jamaican Lager                     0.793733\n",
       "Left Hand Milk Stout                          0.791853\n",
       "Creme Brulee (Imperial Milk Stout)            0.791077\n",
       "Black Butte Porter                            0.789189\n",
       "Boddingtons Pub Ale                           0.788361\n",
       "Imperial IPA                                  0.785819\n",
       "Dark Lord Imperial Stout                      0.782857\n",
       "Murphy's Irish Stout                          0.782647\n",
       "Founders Backwoods Bastard                    0.779792\n",
       "Founders Porter                               0.764203\n",
       "Pabst Blue Ribbon (PBR)                       0.760712\n",
       "Supplication                                  0.760145\n",
       "Budweiser                                     0.758390\n",
       "Furious                                       0.757417\n",
       "New Holland Dragon's Milk Oak Barrel Ale      0.756746\n",
       "Raging Bitch Belgian-Style IPA                0.752031\n",
       "Terrapin Coffee Oatmeal Imperial Stout        0.750240\n",
       "Hobgoblin                                     0.748117\n",
       "Shiner Bock                                   0.739454\n",
       "The Abyss                                     0.723008\n",
       "Miller Lite                                   0.716208\n",
       "Leinenkugel's Sunset Wheat                    0.710691\n",
       "Bud Light                                     0.710377\n",
       "Corona Extra                                  0.682882\n",
       "Miller High Life                              0.682360\n",
       "Coors Light                                   0.670167\n",
       "Vanilla Porter                                0.664363\n",
       "dtype: float64"
      ]
     },
     "execution_count": 38,
     "metadata": {},
     "output_type": "execute_result"
    }
   ],
   "source": [
    "beers_summed.order(ascending=False)"
   ]
  },
  {
   "cell_type": "code",
   "execution_count": 39,
   "metadata": {
    "collapsed": false
   },
   "outputs": [
    {
     "data": {
      "text/plain": [
       "['#9',\n",
       " '1554 Enlightened Black Ale',\n",
       " '60 Minute IPA',\n",
       " '90 Minute IPA',\n",
       " 'Aecht Schlenkerla Rauchbier M\\xc3\\xa4rzen']"
      ]
     },
     "execution_count": 39,
     "metadata": {},
     "output_type": "execute_result"
    }
   ],
   "source": [
    "ranked_beers = beers_summed.index[beers_summed.index.isin(beers_i_like)==False]\n",
    "ranked_beers = ranked_beers.tolist()\n",
    "ranked_beers[:5]"
   ]
  },
  {
   "cell_type": "code",
   "execution_count": 40,
   "metadata": {
    "collapsed": true
   },
   "outputs": [],
   "source": [
    "def get_similar(beers, n=None):\n",
    "    \"\"\"\n",
    "    calculates which beers are most similar to the beers provided. Does not return\n",
    "    the beers that were provided\n",
    "    \n",
    "    Parameters\n",
    "    ----------\n",
    "    beers: list\n",
    "        some beers!\n",
    "    \n",
    "    Returns\n",
    "    -------\n",
    "    ranked_beers: list\n",
    "        rank ordered beers\n",
    "    \"\"\"\n",
    "    beers = [beer for beer in beers if beer in dists.columns]\n",
    "    beers_summed = dists[beers].apply(lambda row: np.sum(row), axis=1)\n",
    "    beers_summed = beers_summed.order(ascending=False)\n",
    "    ranked_beers = beers_summed.index[beers_summed.index.isin(beers)==False]\n",
    "    ranked_beers = ranked_beers.tolist()\n",
    "    if n is None:\n",
    "        return ranked_beers\n",
    "    else:\n",
    "        return ranked_beers[:n]"
   ]
  },
  {
   "cell_type": "code",
   "execution_count": 41,
   "metadata": {
    "collapsed": false
   },
   "outputs": [
    {
     "name": "stdout",
     "output_type": "stream",
     "text": [
      "World Wide Stout\n",
      "90 Minute IPA\n",
      "Double Bastard Ale\n",
      "Stone Ruination IPA\n",
      "Stone Imperial Russian Stout\n",
      "Storm King Stout\n",
      "60 Minute IPA\n",
      "Oaked Arrogant Bastard Ale\n",
      "Sierra Nevada Bigfoot Barleywine Style Ale\n",
      "Brooklyn Black Chocolate Stout\n"
     ]
    }
   ],
   "source": [
    "for beer in get_similar([\"120 Minute IPA\"], 10):\n",
    "    print beer"
   ]
  },
  {
   "cell_type": "code",
   "execution_count": 42,
   "metadata": {
    "collapsed": false
   },
   "outputs": [
    {
     "name": "stdout",
     "output_type": "stream",
     "text": [
      "1) Miller Lite\n",
      "2) Budweiser\n",
      "3) Corona Extra\n",
      "4) Samuel Adams Boston Lager\n",
      "5) Heineken Lager Beer\n",
      "6) Blue Moon Belgian White\n",
      "7) Guinness Draught\n",
      "8) Miller High Life\n",
      "9) Samuel Adams Summer Ale\n",
      "10) Sierra Nevada Pale Ale\n"
     ]
    }
   ],
   "source": [
    "for i, beer in enumerate(get_similar([\"Coors Light\", \"Bud Light\", \"Amstel Light\"], 10)):\n",
    "    print \"%d) %s\" % (i+1, beer)"
   ]
  },
  {
   "cell_type": "markdown",
   "metadata": {},
   "source": [
    "Quick Check if both the above methods give same answers"
   ]
  },
  {
   "cell_type": "code",
   "execution_count": 43,
   "metadata": {
    "collapsed": true
   },
   "outputs": [],
   "source": [
    "from sklearn.metrics.pairwise import cosine_similarity\n",
    "from sklearn.metrics.pairwise import manhattan_distances\n",
    "from sklearn.metrics.pairwise import euclidean_distances\n",
    "#from sklearn.metrics.pairwise import \n",
    "\n",
    "#dists = cosine_similarity(df_wide)\n",
    "dists1 = euclidean_distances(df_wide)"
   ]
  },
  {
   "cell_type": "code",
   "execution_count": 44,
   "metadata": {
    "collapsed": false
   },
   "outputs": [
    {
     "data": {
      "text/html": [
       "<div style=\"max-height:1000px;max-width:1500px;overflow:auto;\">\n",
       "<table border=\"1\" class=\"dataframe\">\n",
       "  <thead>\n",
       "    <tr style=\"text-align: right;\">\n",
       "      <th>beer_name</th>\n",
       "      <th>#9</th>\n",
       "      <th>120 Minute IPA</th>\n",
       "      <th>1554 Enlightened Black Ale</th>\n",
       "      <th>60 Minute IPA</th>\n",
       "      <th>90 Minute IPA</th>\n",
       "      <th>Aecht Schlenkerla Rauchbier Märzen</th>\n",
       "      <th>AleSmith IPA</th>\n",
       "      <th>AleSmith Speedway Stout</th>\n",
       "      <th>Allagash White</th>\n",
       "      <th>Alpha King Pale Ale</th>\n",
       "    </tr>\n",
       "    <tr>\n",
       "      <th>beer_name</th>\n",
       "      <th></th>\n",
       "      <th></th>\n",
       "      <th></th>\n",
       "      <th></th>\n",
       "      <th></th>\n",
       "      <th></th>\n",
       "      <th></th>\n",
       "      <th></th>\n",
       "      <th></th>\n",
       "      <th></th>\n",
       "    </tr>\n",
       "  </thead>\n",
       "  <tbody>\n",
       "    <tr>\n",
       "      <th>#9</th>\n",
       "      <td>0.000000</td>\n",
       "      <td>174.229933</td>\n",
       "      <td>163.580213</td>\n",
       "      <td>198.889172</td>\n",
       "      <td>226.158606</td>\n",
       "      <td>154.688688</td>\n",
       "      <td>167.027568</td>\n",
       "      <td>174.317897</td>\n",
       "      <td>160.150862</td>\n",
       "      <td>182.979113</td>\n",
       "    </tr>\n",
       "    <tr>\n",
       "      <th>120 Minute IPA</th>\n",
       "      <td>174.229933</td>\n",
       "      <td>0.000000</td>\n",
       "      <td>176.408262</td>\n",
       "      <td>205.519464</td>\n",
       "      <td>223.010510</td>\n",
       "      <td>165.243948</td>\n",
       "      <td>167.371136</td>\n",
       "      <td>170.681335</td>\n",
       "      <td>176.769447</td>\n",
       "      <td>185.167028</td>\n",
       "    </tr>\n",
       "    <tr>\n",
       "      <th>1554 Enlightened Black Ale</th>\n",
       "      <td>163.580213</td>\n",
       "      <td>176.408262</td>\n",
       "      <td>0.000000</td>\n",
       "      <td>207.994591</td>\n",
       "      <td>233.043049</td>\n",
       "      <td>154.017247</td>\n",
       "      <td>162.097236</td>\n",
       "      <td>169.752618</td>\n",
       "      <td>168.938783</td>\n",
       "      <td>180.671880</td>\n",
       "    </tr>\n",
       "    <tr>\n",
       "      <th>60 Minute IPA</th>\n",
       "      <td>198.889172</td>\n",
       "      <td>205.519464</td>\n",
       "      <td>207.994591</td>\n",
       "      <td>0.000000</td>\n",
       "      <td>216.172240</td>\n",
       "      <td>202.668294</td>\n",
       "      <td>208.132603</td>\n",
       "      <td>212.805744</td>\n",
       "      <td>204.677338</td>\n",
       "      <td>210.682114</td>\n",
       "    </tr>\n",
       "    <tr>\n",
       "      <th>90 Minute IPA</th>\n",
       "      <td>226.158606</td>\n",
       "      <td>223.010510</td>\n",
       "      <td>233.043049</td>\n",
       "      <td>216.172240</td>\n",
       "      <td>0.000000</td>\n",
       "      <td>228.835640</td>\n",
       "      <td>228.252038</td>\n",
       "      <td>228.923871</td>\n",
       "      <td>228.818979</td>\n",
       "      <td>226.068608</td>\n",
       "    </tr>\n",
       "    <tr>\n",
       "      <th>Aecht Schlenkerla Rauchbier Märzen</th>\n",
       "      <td>154.688688</td>\n",
       "      <td>165.243948</td>\n",
       "      <td>154.017247</td>\n",
       "      <td>202.668294</td>\n",
       "      <td>228.835640</td>\n",
       "      <td>0.000000</td>\n",
       "      <td>153.014546</td>\n",
       "      <td>160.880822</td>\n",
       "      <td>154.371710</td>\n",
       "      <td>177.353857</td>\n",
       "    </tr>\n",
       "    <tr>\n",
       "      <th>AleSmith IPA</th>\n",
       "      <td>167.027568</td>\n",
       "      <td>167.371136</td>\n",
       "      <td>162.097236</td>\n",
       "      <td>208.132603</td>\n",
       "      <td>228.252038</td>\n",
       "      <td>153.014546</td>\n",
       "      <td>0.000000</td>\n",
       "      <td>135.572270</td>\n",
       "      <td>165.476815</td>\n",
       "      <td>167.444420</td>\n",
       "    </tr>\n",
       "    <tr>\n",
       "      <th>AleSmith Speedway Stout</th>\n",
       "      <td>174.317897</td>\n",
       "      <td>170.681335</td>\n",
       "      <td>169.752618</td>\n",
       "      <td>212.805744</td>\n",
       "      <td>228.923871</td>\n",
       "      <td>160.880822</td>\n",
       "      <td>135.572270</td>\n",
       "      <td>0.000000</td>\n",
       "      <td>172.592286</td>\n",
       "      <td>169.450547</td>\n",
       "    </tr>\n",
       "    <tr>\n",
       "      <th>Allagash White</th>\n",
       "      <td>160.150862</td>\n",
       "      <td>176.769447</td>\n",
       "      <td>168.938783</td>\n",
       "      <td>204.677338</td>\n",
       "      <td>228.818979</td>\n",
       "      <td>154.371710</td>\n",
       "      <td>165.476815</td>\n",
       "      <td>172.592286</td>\n",
       "      <td>0.000000</td>\n",
       "      <td>185.653281</td>\n",
       "    </tr>\n",
       "    <tr>\n",
       "      <th>Alpha King Pale Ale</th>\n",
       "      <td>182.979113</td>\n",
       "      <td>185.167028</td>\n",
       "      <td>180.671880</td>\n",
       "      <td>210.682114</td>\n",
       "      <td>226.068608</td>\n",
       "      <td>177.353857</td>\n",
       "      <td>167.444420</td>\n",
       "      <td>169.450547</td>\n",
       "      <td>185.653281</td>\n",
       "      <td>0.000000</td>\n",
       "    </tr>\n",
       "  </tbody>\n",
       "</table>\n",
       "</div>"
      ],
      "text/plain": [
       "beer_name                                   #9  120 Minute IPA  \\\n",
       "beer_name                                                        \n",
       "#9                                    0.000000      174.229933   \n",
       "120 Minute IPA                      174.229933        0.000000   \n",
       "1554 Enlightened Black Ale          163.580213      176.408262   \n",
       "60 Minute IPA                       198.889172      205.519464   \n",
       "90 Minute IPA                       226.158606      223.010510   \n",
       "Aecht Schlenkerla Rauchbier Märzen  154.688688      165.243948   \n",
       "AleSmith IPA                        167.027568      167.371136   \n",
       "AleSmith Speedway Stout             174.317897      170.681335   \n",
       "Allagash White                      160.150862      176.769447   \n",
       "Alpha King Pale Ale                 182.979113      185.167028   \n",
       "\n",
       "beer_name                           1554 Enlightened Black Ale  60 Minute IPA  \\\n",
       "beer_name                                                                       \n",
       "#9                                                  163.580213     198.889172   \n",
       "120 Minute IPA                                      176.408262     205.519464   \n",
       "1554 Enlightened Black Ale                            0.000000     207.994591   \n",
       "60 Minute IPA                                       207.994591       0.000000   \n",
       "90 Minute IPA                                       233.043049     216.172240   \n",
       "Aecht Schlenkerla Rauchbier Märzen                  154.017247     202.668294   \n",
       "AleSmith IPA                                        162.097236     208.132603   \n",
       "AleSmith Speedway Stout                             169.752618     212.805744   \n",
       "Allagash White                                      168.938783     204.677338   \n",
       "Alpha King Pale Ale                                 180.671880     210.682114   \n",
       "\n",
       "beer_name                           90 Minute IPA  \\\n",
       "beer_name                                           \n",
       "#9                                     226.158606   \n",
       "120 Minute IPA                         223.010510   \n",
       "1554 Enlightened Black Ale             233.043049   \n",
       "60 Minute IPA                          216.172240   \n",
       "90 Minute IPA                            0.000000   \n",
       "Aecht Schlenkerla Rauchbier Märzen     228.835640   \n",
       "AleSmith IPA                           228.252038   \n",
       "AleSmith Speedway Stout                228.923871   \n",
       "Allagash White                         228.818979   \n",
       "Alpha King Pale Ale                    226.068608   \n",
       "\n",
       "beer_name                           Aecht Schlenkerla Rauchbier Märzen  \\\n",
       "beer_name                                                                \n",
       "#9                                                          154.688688   \n",
       "120 Minute IPA                                              165.243948   \n",
       "1554 Enlightened Black Ale                                  154.017247   \n",
       "60 Minute IPA                                               202.668294   \n",
       "90 Minute IPA                                               228.835640   \n",
       "Aecht Schlenkerla Rauchbier Märzen                            0.000000   \n",
       "AleSmith IPA                                                153.014546   \n",
       "AleSmith Speedway Stout                                     160.880822   \n",
       "Allagash White                                              154.371710   \n",
       "Alpha King Pale Ale                                         177.353857   \n",
       "\n",
       "beer_name                           AleSmith IPA  AleSmith Speedway Stout  \\\n",
       "beer_name                                                                   \n",
       "#9                                    167.027568               174.317897   \n",
       "120 Minute IPA                        167.371136               170.681335   \n",
       "1554 Enlightened Black Ale            162.097236               169.752618   \n",
       "60 Minute IPA                         208.132603               212.805744   \n",
       "90 Minute IPA                         228.252038               228.923871   \n",
       "Aecht Schlenkerla Rauchbier Märzen    153.014546               160.880822   \n",
       "AleSmith IPA                            0.000000               135.572270   \n",
       "AleSmith Speedway Stout               135.572270                 0.000000   \n",
       "Allagash White                        165.476815               172.592286   \n",
       "Alpha King Pale Ale                   167.444420               169.450547   \n",
       "\n",
       "beer_name                           Allagash White  Alpha King Pale Ale  \n",
       "beer_name                                                                \n",
       "#9                                      160.150862           182.979113  \n",
       "120 Minute IPA                          176.769447           185.167028  \n",
       "1554 Enlightened Black Ale              168.938783           180.671880  \n",
       "60 Minute IPA                           204.677338           210.682114  \n",
       "90 Minute IPA                           228.818979           226.068608  \n",
       "Aecht Schlenkerla Rauchbier Märzen      154.371710           177.353857  \n",
       "AleSmith IPA                            165.476815           167.444420  \n",
       "AleSmith Speedway Stout                 172.592286           169.450547  \n",
       "Allagash White                            0.000000           185.653281  \n",
       "Alpha King Pale Ale                     185.653281             0.000000  "
      ]
     },
     "execution_count": 44,
     "metadata": {},
     "output_type": "execute_result"
    }
   ],
   "source": [
    "dists1 = pd.DataFrame(dists1, columns=df_wide.index)\n",
    "# give the indicies (equivalent to rownames in R) the name of the product id\n",
    "dists1.index = dists1.columns\n",
    "dists1.ix[0:10, 0:10]"
   ]
  },
  {
   "cell_type": "code",
   "execution_count": 47,
   "metadata": {
    "collapsed": false
   },
   "outputs": [
    {
     "data": {
      "text/html": [
       "<div style=\"max-height:1000px;max-width:1500px;overflow:auto;\">\n",
       "<table border=\"1\" class=\"dataframe\">\n",
       "  <thead>\n",
       "    <tr style=\"text-align: right;\">\n",
       "      <th>beer_name</th>\n",
       "      <th>Dale's Pale Ale</th>\n",
       "      <th>Fat Tire Amber Ale</th>\n",
       "    </tr>\n",
       "    <tr>\n",
       "      <th>beer_name</th>\n",
       "      <th></th>\n",
       "      <th></th>\n",
       "    </tr>\n",
       "  </thead>\n",
       "  <tbody>\n",
       "    <tr>\n",
       "      <th>#9</th>\n",
       "      <td>170.051442</td>\n",
       "      <td>171.617489</td>\n",
       "    </tr>\n",
       "    <tr>\n",
       "      <th>120 Minute IPA</th>\n",
       "      <td>180.702237</td>\n",
       "      <td>185.033875</td>\n",
       "    </tr>\n",
       "    <tr>\n",
       "      <th>1554 Enlightened Black Ale</th>\n",
       "      <td>171.986696</td>\n",
       "      <td>152.189963</td>\n",
       "    </tr>\n",
       "    <tr>\n",
       "      <th>60 Minute IPA</th>\n",
       "      <td>202.158474</td>\n",
       "      <td>208.631437</td>\n",
       "    </tr>\n",
       "    <tr>\n",
       "      <th>90 Minute IPA</th>\n",
       "      <td>224.920048</td>\n",
       "      <td>233.610460</td>\n",
       "    </tr>\n",
       "  </tbody>\n",
       "</table>\n",
       "</div>"
      ],
      "text/plain": [
       "beer_name                   Dale's Pale Ale  Fat Tire Amber Ale\n",
       "beer_name                                                      \n",
       "#9                               170.051442          171.617489\n",
       "120 Minute IPA                   180.702237          185.033875\n",
       "1554 Enlightened Black Ale       171.986696          152.189963\n",
       "60 Minute IPA                    202.158474          208.631437\n",
       "90 Minute IPA                    224.920048          233.610460"
      ]
     },
     "execution_count": 47,
     "metadata": {},
     "output_type": "execute_result"
    }
   ],
   "source": [
    "beers_i_like_mod = [\"Dale's Pale Ale\", \"Fat Tire Amber Ale\"]\n",
    "dists1[beers_i_like_mod].head()"
   ]
  },
  {
   "cell_type": "code",
   "execution_count": null,
   "metadata": {
    "collapsed": true
   },
   "outputs": [],
   "source": [
    "# axis = 1 b/c we want 1 score per beer, which are rows\n",
    "beers_summed = dists[beers_i_like].apply(lambda row: np.sum(row), axis=1)\n",
    "#beers_summed = beers_summed.reset_index()\n",
    "#beers_summed.columns = ['beer_name', 'total_distance']\n",
    "#beers_summed.sort(['beer_name'], ascending=False).head(10)\n",
    "#beers_summed.sort(['total_distance'], ascending=False).head(10)"
   ]
  }
 ],
 "metadata": {
  "kernelspec": {
   "display_name": "Python 2",
   "language": "python",
   "name": "python2"
  },
  "language_info": {
   "codemirror_mode": {
    "name": "ipython",
    "version": 2
   },
   "file_extension": ".py",
   "mimetype": "text/x-python",
   "name": "python",
   "nbconvert_exporter": "python",
   "pygments_lexer": "ipython2",
   "version": "2.7.9"
  }
 },
 "nbformat": 4,
 "nbformat_minor": 0
}
